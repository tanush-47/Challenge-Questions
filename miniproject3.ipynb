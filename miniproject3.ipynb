{
  "nbformat": 4,
  "nbformat_minor": 0,
  "metadata": {
    "colab": {
      "provenance": [],
      "authorship_tag": "ABX9TyNH6XYZNdubtx7Hopa/AwX6",
      "include_colab_link": true
    },
    "kernelspec": {
      "name": "python3",
      "display_name": "Python 3"
    },
    "language_info": {
      "name": "python"
    }
  },
  "cells": [
    {
      "cell_type": "markdown",
      "metadata": {
        "id": "view-in-github",
        "colab_type": "text"
      },
      "source": [
        "<a href=\"https://colab.research.google.com/github/tanush-47/Challenge-Questions/blob/main/miniproject3.ipynb\" target=\"_parent\"><img src=\"https://colab.research.google.com/assets/colab-badge.svg\" alt=\"Open In Colab\"/></a>"
      ]
    },
    {
      "cell_type": "markdown",
      "source": [
        "# 1. Problem Statement :\n",
        "-> Find all the subsets from a set of numbers whose sum is zero.\n",
        "\n",
        "-> Constraint: Subset size must be 5.\n",
        "\n",
        "-> Set={-12, -3, -6, 7, 2, -2, 6, 3, 9, -7, -5, -8, 1, 11, -9, -4 }"
      ],
      "metadata": {
        "id": "6tBx_xgnTAI7"
      }
    },
    {
      "cell_type": "code",
      "source": [
        "import random as r\n",
        "\n",
        "Set         = set([-12, -3, -6, 7, 2, -2, 6, 3, 9, -7, -5, -8, 1, 11, -9, -4])\n",
        "SetSize     = 5\n",
        "ResultList  = set()    # Store Result List i.e. list of sets whose sum is zero\n",
        "Iterations  = 1000     # Number of Iterations\n",
        "\n",
        "# Loop till number of Iterations\n",
        "for i in range(Iterations):\n",
        "    # Convert Set to List before sampling\n",
        "    Sub_set = r.sample(list(Set), SetSize)\n",
        "    Sub_set = sorted(Sub_set)  # Sorted returns a new list\n",
        "\n",
        "    # Sum the number of elements in the Chromosome\n",
        "    if sum(Sub_set) == 0:\n",
        "        ResultList.add(tuple(Sub_set))  # Tuples can be added to a set\n",
        "\n",
        "# Print total sets\n",
        "print(\"\\nTotal Sets:\", len(ResultList))\n",
        "\n",
        "\n",
        "# Print all the sets whose sum is zero\n",
        "print(\"\\n All Subset whose sum is zero :\")\n",
        "for r in ResultList:\n",
        "    print(r)"
      ],
      "metadata": {
        "colab": {
          "base_uri": "https://localhost:8080/"
        },
        "id": "LtOciI-5TEb9",
        "outputId": "65650cd3-c92c-4992-f52a-08cd9b97c11b"
      },
      "execution_count": null,
      "outputs": [
        {
          "output_type": "stream",
          "name": "stdout",
          "text": [
            "\n",
            "Total Sets: 26\n",
            "\n",
            " All Subset whose sum is zero :\n",
            "(-12, -6, 3, 6, 9)\n",
            "(-12, -3, 2, 6, 7)\n",
            "(-12, -6, 1, 6, 11)\n",
            "(-9, -8, -3, 9, 11)\n",
            "(-7, -4, -3, 3, 11)\n",
            "(-8, -7, -3, 7, 11)\n",
            "(-5, -4, -3, 1, 11)\n",
            "(-12, -3, 1, 3, 11)\n",
            "(-8, -3, 1, 3, 7)\n",
            "(-8, -7, 1, 3, 11)\n",
            "(-7, -5, 2, 3, 7)\n",
            "(-6, -5, -3, 3, 11)\n",
            "(-5, -3, -2, 3, 7)\n",
            "(-9, -7, -2, 7, 11)\n",
            "(-8, -4, 1, 2, 9)\n",
            "(-12, -2, 1, 2, 11)\n",
            "(-4, -3, -2, 2, 7)\n",
            "(-8, -4, 2, 3, 7)\n",
            "(-8, -5, 1, 3, 9)\n",
            "(-12, -7, 3, 7, 9)\n",
            "(-8, -2, 1, 2, 7)\n",
            "(-5, -4, -2, 2, 9)\n",
            "(-5, -4, -3, 3, 9)\n",
            "(-12, -9, 3, 7, 11)\n",
            "(-12, -4, -2, 7, 11)\n",
            "(-8, -6, 2, 3, 9)\n"
          ]
        }
      ]
    },
    {
      "cell_type": "markdown",
      "source": [
        "# 2. Problem Statement :\n",
        "-> Find all the subsets from a set of numbers whose sum is zero.\n",
        "\n",
        "-> Constraint: Subset size must be 3 to 6 only\n",
        "\n",
        "-> Set={-12, -3, -6, 7, 2, -2, 6, 3, 9, -7, -5, -8, 1, 11, -9, -4}"
      ],
      "metadata": {
        "id": "nImk4KDhTKKu"
      }
    },
    {
      "cell_type": "code",
      "source": [
        "import random as r\n",
        "\n",
        "Set         = set([-12, -3, -6, 7, 2, -2, 6, 3, 9, -7, -5, -8, 1, 11, -9, -4])\n",
        "SetLB       = 3\n",
        "SetUB       = 6\n",
        "ResultList  = set()    # Store Result List i.e. list of sets whose sum is zero\n",
        "Iterations  = 1000     # Number of Iterations\n",
        "\n",
        "# Loop till number of Iterations\n",
        "for i in range(Iterations):\n",
        "    Setsize = r.randint(SetLB, SetUB)\n",
        "    # Convert Set to List before sampling\n",
        "    Sub_set = r.sample(list(Set), SetSize)\n",
        "    Sub_set = sorted(Sub_set)  # Sorted returns a new list\n",
        "\n",
        "    # Sum the number of elements in the Chromosome\n",
        "    if sum(Sub_set) == 0:\n",
        "        ResultList.add(tuple(Sub_set))  # Tuples can be added to a set\n",
        "\n",
        "# Print total sets\n",
        "print(\"\\nTotal Sets:\", len(ResultList))\n",
        "\n",
        "\n",
        "# Print all the sets whose sum is zero\n",
        "print(\"\\n All Subset whose sum is zero :\")\n",
        "for r in ResultList:\n",
        "    print(r)"
      ],
      "metadata": {
        "colab": {
          "base_uri": "https://localhost:8080/"
        },
        "id": "_CYy9Ba5TRiQ",
        "outputId": "84df381a-3041-4350-a57a-e5234bc32d1b"
      },
      "execution_count": null,
      "outputs": [
        {
          "output_type": "stream",
          "name": "stdout",
          "text": [
            "\n",
            "Total Sets: 33\n",
            "\n",
            " All Subset whose sum is zero :\n",
            "(-12, -3, 2, 6, 7)\n",
            "(-12, -4, 1, 6, 9)\n",
            "(-9, -8, 2, 6, 9)\n",
            "(-7, -4, -3, 3, 11)\n",
            "(-5, -4, 1, 2, 6)\n",
            "(-9, -2, 1, 3, 7)\n",
            "(-7, -4, 2, 3, 6)\n",
            "(-9, -5, 1, 2, 11)\n",
            "(-12, -2, 1, 6, 7)\n",
            "(-6, -4, -3, 6, 7)\n",
            "(-8, -6, 1, 6, 7)\n",
            "(-7, -6, -2, 6, 9)\n",
            "(-9, -5, 2, 3, 9)\n",
            "(-6, -4, 1, 3, 6)\n",
            "(-9, -3, 1, 2, 9)\n",
            "(-12, 1, 2, 3, 6)\n",
            "(-7, -5, -2, 3, 11)\n",
            "(-7, -3, -2, 3, 9)\n",
            "(-8, -3, 1, 3, 7)\n",
            "(-8, -7, 1, 3, 11)\n",
            "(-5, -3, -2, 3, 7)\n",
            "(-8, -2, 1, 3, 6)\n",
            "(-8, -4, -2, 3, 11)\n",
            "(-12, -2, 1, 2, 11)\n",
            "(-6, -4, -3, 2, 11)\n",
            "(-8, -4, 2, 3, 7)\n",
            "(-12, -7, 3, 7, 9)\n",
            "(-6, -5, -4, 6, 9)\n",
            "(-9, -6, -2, 6, 11)\n",
            "(-9, -7, 1, 6, 9)\n",
            "(-9, -6, 1, 3, 11)\n",
            "(-12, -4, 3, 6, 7)\n",
            "(-9, -6, 2, 6, 7)\n"
          ]
        }
      ]
    }
  ]
}