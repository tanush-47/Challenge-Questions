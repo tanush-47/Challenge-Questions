{
  "nbformat": 4,
  "nbformat_minor": 0,
  "metadata": {
    "colab": {
      "provenance": [],
      "authorship_tag": "ABX9TyMKJyRiKDZ6mM/tmNGnga7x",
      "include_colab_link": true
    },
    "kernelspec": {
      "name": "python3",
      "display_name": "Python 3"
    },
    "language_info": {
      "name": "python"
    }
  },
  "cells": [
    {
      "cell_type": "markdown",
      "metadata": {
        "id": "view-in-github",
        "colab_type": "text"
      },
      "source": [
        "<a href=\"https://colab.research.google.com/github/tanush-47/Challenge-Questions/blob/main/MiniProject2.ipynb\" target=\"_parent\"><img src=\"https://colab.research.google.com/assets/colab-badge.svg\" alt=\"Open In Colab\"/></a>"
      ]
    },
    {
      "cell_type": "markdown",
      "source": [
        "# 1. Write a python program to sort the list of heterogeneous data.\n"
      ],
      "metadata": {
        "id": "l3sxNhguOdx0"
      }
    },
    {
      "cell_type": "code",
      "source": [
        "#Write a python program to sort the list of heterogeneous data.\n",
        "# e.g.\n",
        "L = [\"Ram\", 1, \"Shyam\", 2, \"Aman\", 3]\n",
        "print(L)\n",
        "# L.sort() # This will cause a TypeError because you cannot directly sort a list with mixed data types (strings and integers).\n",
        "print(L)\n",
        "# Above code gives error. Correct it."
      ],
      "metadata": {
        "id": "i9GfXMWAPQuG",
        "colab": {
          "base_uri": "https://localhost:8080/"
        },
        "outputId": "68873bc9-2018-4afc-b55c-99986e3a3786"
      },
      "execution_count": 4,
      "outputs": [
        {
          "output_type": "stream",
          "name": "stdout",
          "text": [
            "['Ram', 1, 'Shyam', 2, 'Aman', 3]\n",
            "['Ram', 1, 'Shyam', 2, 'Aman', 3]\n"
          ]
        }
      ]
    },
    {
      "cell_type": "code",
      "source": [
        "L = [\"Ram\", 1, \"Shyam\", 2, \"Aman\", 3]\n",
        "print(\"Original List:\", L)\n",
        "\n",
        "# Separate strings and numbers\n",
        "strings = sorted([x for x in L if isinstance(x, str)])\n",
        "numbers = sorted([x for x in L if isinstance(x, int)])\n",
        "\n",
        "# Combine back (optional, based on your use-case)\n",
        "sorted_L = strings + numbers\n",
        "print(\"Sorted List (Strings then Numbers):\", sorted_L)\n"
      ],
      "metadata": {
        "id": "itFIpjatPdcl",
        "colab": {
          "base_uri": "https://localhost:8080/"
        },
        "outputId": "178394da-056c-4d1e-f8e9-e12152c538ff"
      },
      "execution_count": 5,
      "outputs": [
        {
          "output_type": "stream",
          "name": "stdout",
          "text": [
            "Original List: ['Ram', 1, 'Shyam', 2, 'Aman', 3]\n",
            "Sorted List (Strings then Numbers): ['Aman', 'Ram', 'Shyam', 1, 2, 3]\n"
          ]
        }
      ]
    }
  ]
}