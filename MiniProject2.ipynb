{
  "nbformat": 4,
  "nbformat_minor": 0,
  "metadata": {
    "colab": {
      "provenance": [],
      "authorship_tag": "ABX9TyMcfINQ/+nNjhEUzB8tH2HO",
      "include_colab_link": true
    },
    "kernelspec": {
      "name": "python3",
      "display_name": "Python 3"
    },
    "language_info": {
      "name": "python"
    }
  },
  "cells": [
    {
      "cell_type": "markdown",
      "metadata": {
        "id": "view-in-github",
        "colab_type": "text"
      },
      "source": [
        "<a href=\"https://colab.research.google.com/github/tanush-47/Challenge-Questions/blob/main/MiniProject2.ipynb\" target=\"_parent\"><img src=\"https://colab.research.google.com/assets/colab-badge.svg\" alt=\"Open In Colab\"/></a>"
      ]
    },
    {
      "cell_type": "markdown",
      "source": [
        "# 1. Write a python program to sort the list of heterogeneous data.\n"
      ],
      "metadata": {
        "id": "l3sxNhguOdx0"
      }
    },
    {
      "cell_type": "code",
      "source": [
        "#Write a python program to sort the list of heterogeneous data.\n",
        "e.g.\n",
        "L = [\"Ram\", 1, \"Shyam\", 2, \"Aman\", 3]\n",
        "print(L)\n",
        "L.sort()\n",
        "print(L)\n",
        "# Above code gives error. Correct it."
      ],
      "metadata": {
        "id": "i9GfXMWAPQuG"
      },
      "execution_count": null,
      "outputs": []
    },
    {
      "cell_type": "code",
      "source": [
        "L = [\"Ram\", 1, \"Shyam\", 2, \"Aman\", 3]\n",
        "print(\"Original List:\", L)\n",
        "\n",
        "# Separate strings and numbers\n",
        "strings = sorted([x for x in L if isinstance(x, str)])\n",
        "numbers = sorted([x for x in L if isinstance(x, int)])\n",
        "\n",
        "# Combine back (optional, based on your use-case)\n",
        "sorted_L = strings + numbers\n",
        "print(\"Sorted List (Strings then Numbers):\", sorted_L)\n"
      ],
      "metadata": {
        "id": "itFIpjatPdcl"
      },
      "execution_count": null,
      "outputs": []
    }
  ]
}